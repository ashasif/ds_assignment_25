{
 "cells": [
  {
   "cell_type": "code",
   "execution_count": 1,
   "id": "deace7fd-4cc8-4fb2-8892-b343b75f1590",
   "metadata": {},
   "outputs": [],
   "source": [
    "# Step 1: Import libraries\n",
    "import yfinance as yf\n",
    "import pandas as pd\n",
    "import numpy as np\n",
    "from sklearn.preprocessing import StandardScaler\n",
    "import matplotlib.pyplot as plt\n",
    "from sklearn.model_selection import TimeSeriesSplit\n",
    "from sklearn.metrics import make_scorer, mean_squared_error"
   ]
  },
  {
   "cell_type": "code",
   "execution_count": 2,
   "id": "bad095bd-7b35-401d-9aac-262556cce63a",
   "metadata": {},
   "outputs": [
    {
     "name": "stdout",
     "output_type": "stream",
     "text": [
      "YF.download() has changed argument auto_adjust default to True\n"
     ]
    },
    {
     "name": "stderr",
     "output_type": "stream",
     "text": [
      "[*********************100%***********************]  5 of 5 completed\n"
     ]
    }
   ],
   "source": [
    "\n",
    "\n",
    "# Step 2: Select 5 balanced stocks based on beta (high and low risk mix)\n",
    "selected_stocks = ['C', 'PYPL', 'V', 'SCHW', 'MA']  # 2 high beta, 2 low beta, 1 mid beta\n",
    "\n",
    "# Step 3: Download historical stock prices\n",
    "start_date = \"2019-01-01\"\n",
    "end_date = \"2024-01-01\"\n",
    "data = yf.download(selected_stocks, start=start_date, end=end_date)['Close']\n",
    "\n",
    "# Step 4: Calculate daily returns\n",
    "returns = data.pct_change().dropna()\n",
    "\n",
    "# Step 5: Feature Engineering\n",
    "features = pd.DataFrame(index=returns.index)\n",
    "for stock in selected_stocks:\n",
    "    df = pd.DataFrame()\n",
    "    df[\"Return\"] = returns[stock]\n",
    "    df[\"MA10\"] = returns[stock].rolling(window=10).mean()\n",
    "    df[\"MA50\"] = returns[stock].rolling(window=50).mean()\n",
    "    df[\"Volatility\"] = returns[stock].rolling(window=10).std()\n",
    "    df[\"Momentum\"] = returns[stock].rolling(window=10).apply(lambda x: x[-1] - x[0], raw=True)\n",
    "    df.columns = [f\"{stock}_{col}\" for col in df.columns]\n",
    "    features = features.join(df, how=\"outer\")\n",
    "\n",
    "# Step 6: Drop NA values\n",
    "features = features.dropna()\n",
    "\n",
    "# Step 7: Create labels (next-day return)\n",
    "labels = pd.DataFrame(index=features.index)\n",
    "for stock in selected_stocks:\n",
    "    labels[stock] = returns[stock].shift(-1)\n",
    "labels = labels.dropna()\n",
    "features = features.loc[labels.index]  # Align features with labels\n",
    "\n",
    "# Step 8: Normalize features\n",
    "scaler = StandardScaler()\n",
    "features_scaled = pd.DataFrame(\n",
    "    scaler.fit_transform(features),\n",
    "    columns=features.columns,\n",
    "    index=features.index\n",
    ")"
   ]
  },
  {
   "cell_type": "code",
   "execution_count": 3,
   "id": "81554091-158d-4a94-844b-5164f3ec3482",
   "metadata": {},
   "outputs": [],
   "source": [
    "# Step 9: Train-test split (80% train, 20% test)\n",
    "split_index = int(len(features_scaled) * 0.8)\n",
    "X_train = features_scaled.iloc[:split_index]\n",
    "X_test = features_scaled.iloc[split_index:]\n",
    "y_train = labels.iloc[:split_index]\n",
    "y_test = labels.iloc[split_index:]\n",
    "\n",
    "# CROSS-VALIDATION SETUP\n",
    "tscv = TimeSeriesSplit(n_splits=5)\n",
    "mse_scorer = make_scorer(mean_squared_error)\n"
   ]
  },
  {
   "cell_type": "code",
   "execution_count": 4,
   "id": "82bde828-37cd-4f49-8096-b1bb275d4edc",
   "metadata": {},
   "outputs": [
    {
     "name": "stdout",
     "output_type": "stream",
     "text": [
      "\n",
      "==================================================\n",
      "LINEAR REGRESSION MODEL WITH CROSS-VALIDATION\n",
      "==================================================\n",
      "\n",
      "\n",
      "🔍 Training Linear Regression for C...\n",
      "===================================================================================\n",
      "                      coef    std err          t      P>|t|      [0.025      0.975]\n",
      "-----------------------------------------------------------------------------------\n",
      "const              -0.0002      0.001     -0.210      0.834      -0.002       0.002\n",
      "C_Return           -0.0008      0.002     -0.450      0.653      -0.004       0.003\n",
      "C_MA10             -0.0004      0.002     -0.278      0.781      -0.003       0.003\n",
      "C_MA50             -0.0023      0.002     -1.473      0.141      -0.005       0.001\n",
      "C_Volatility        0.0022      0.002      1.231      0.219      -0.001       0.006\n",
      "C_Momentum         -0.0009      0.002     -0.520      0.603      -0.004       0.002\n",
      "PYPL_Return         0.0003      0.002      0.182      0.856      -0.003       0.004\n",
      "PYPL_MA10          -0.0012      0.001     -0.963      0.336      -0.004       0.001\n",
      "PYPL_MA50           0.0008      0.001      0.669      0.504      -0.002       0.003\n",
      "PYPL_Volatility     0.0001      0.001      0.109      0.914      -0.002       0.003\n",
      "PYPL_Momentum       0.0004      0.001      0.253      0.801      -0.003       0.003\n",
      "V_Return           -0.0040      0.003     -1.191      0.234      -0.011       0.003\n",
      "V_MA10             -0.0034      0.003     -1.182      0.237      -0.009       0.002\n",
      "V_MA50              0.0025      0.002      0.987      0.324      -0.002       0.007\n",
      "V_Volatility       -0.0038      0.003     -1.095      0.274      -0.011       0.003\n",
      "V_Momentum          0.0005      0.003      0.174      0.862      -0.005       0.006\n",
      "SCHW_Return        -0.0050      0.002     -2.553      0.011      -0.009      -0.001\n",
      "SCHW_MA10           0.0027      0.001      1.847      0.065      -0.000       0.006\n",
      "SCHW_MA50           0.0018      0.002      1.151      0.250      -0.001       0.005\n",
      "SCHW_Volatility    -0.0022      0.002     -1.325      0.186      -0.005       0.001\n",
      "SCHW_Momentum       0.0024      0.002      1.343      0.180      -0.001       0.006\n",
      "MA_Return           0.0032      0.003      0.977      0.329      -0.003       0.010\n",
      "MA_MA10             0.0039      0.003      1.407      0.160      -0.002       0.009\n",
      "MA_MA50            -0.0032      0.002     -1.363      0.173      -0.008       0.001\n",
      "MA_Volatility       0.0025      0.003      0.709      0.478      -0.004       0.009\n",
      "MA_Momentum         0.0005      0.003      0.180      0.857      -0.005       0.006\n",
      "===================================================================================\n",
      "CV MSE Scores: [0.00491828 0.00107675 0.0004481  0.00039773 0.00050445]\n",
      "Mean CV MSE: 0.001469 (±0.001742)\n",
      "\n",
      "🔍 Training Linear Regression for PYPL...\n",
      "===================================================================================\n",
      "                      coef    std err          t      P>|t|      [0.025      0.975]\n",
      "-----------------------------------------------------------------------------------\n",
      "const               0.0003      0.001      0.317      0.751      -0.002       0.002\n",
      "C_Return           -0.0031      0.002     -1.589      0.112      -0.007       0.001\n",
      "C_MA10              0.0019      0.002      1.212      0.226      -0.001       0.005\n",
      "C_MA50              0.0008      0.002      0.462      0.644      -0.003       0.004\n",
      "C_Volatility        0.0044      0.002      2.269      0.023       0.001       0.008\n",
      "C_Momentum         -0.0003      0.002     -0.143      0.887      -0.004       0.003\n",
      "PYPL_Return         0.0011      0.002      0.616      0.538      -0.002       0.005\n",
      "PYPL_MA10          -0.0007      0.001     -0.529      0.597      -0.003       0.002\n",
      "PYPL_MA50          -0.0003      0.001     -0.251      0.802      -0.003       0.002\n",
      "PYPL_Volatility    -0.0024      0.001     -1.710      0.088      -0.005       0.000\n",
      "PYPL_Momentum      -0.0004      0.002     -0.257      0.798      -0.004       0.003\n",
      "V_Return           -0.0128      0.004     -3.577      0.000      -0.020      -0.006\n",
      "V_MA10              0.0027      0.003      0.872      0.384      -0.003       0.009\n",
      "V_MA50           -9.98e-05      0.003     -0.037      0.970      -0.005       0.005\n",
      "V_Volatility       -0.0043      0.004     -1.173      0.241      -0.012       0.003\n",
      "V_Momentum          0.0079      0.003      2.420      0.016       0.001       0.014\n",
      "SCHW_Return        -0.0040      0.002     -1.892      0.059      -0.008       0.000\n",
      "SCHW_MA10           0.0007      0.002      0.454      0.650      -0.002       0.004\n",
      "SCHW_MA50           0.0003      0.002      0.203      0.839      -0.003       0.004\n",
      "SCHW_Volatility     0.0011      0.002      0.637      0.524      -0.002       0.005\n",
      "SCHW_Momentum       0.0007      0.002      0.382      0.703      -0.003       0.005\n",
      "MA_Return           0.0105      0.004      2.963      0.003       0.004       0.017\n",
      "MA_MA10            -0.0029      0.003     -0.959      0.338      -0.009       0.003\n",
      "MA_MA50            -0.0023      0.003     -0.938      0.348      -0.007       0.003\n",
      "MA_Volatility       0.0016      0.004      0.431      0.666      -0.006       0.009\n",
      "MA_Momentum        -0.0054      0.003     -1.649      0.099      -0.012       0.001\n",
      "===================================================================================\n",
      "CV MSE Scores: [0.00243103 0.00083396 0.00058391 0.00142827 0.00104613]\n",
      "Mean CV MSE: 0.001265 (±0.000646)\n",
      "\n",
      "🔍 Training Linear Regression for V...\n",
      "===================================================================================\n",
      "                      coef    std err          t      P>|t|      [0.025      0.975]\n",
      "-----------------------------------------------------------------------------------\n",
      "const               0.0005      0.001      0.712      0.476      -0.001       0.002\n",
      "C_Return           -0.0014      0.001     -1.035      0.301      -0.004       0.001\n",
      "C_MA10              0.0014      0.001      1.310      0.191      -0.001       0.004\n",
      "C_MA50             -0.0007      0.001     -0.590      0.555      -0.003       0.002\n",
      "C_Volatility     8.637e-05      0.001      0.067      0.947      -0.002       0.003\n",
      "C_Momentum         -0.0012      0.001     -1.016      0.310      -0.004       0.001\n",
      "PYPL_Return        -0.0004      0.001     -0.303      0.762      -0.003       0.002\n",
      "PYPL_MA10           0.0002      0.001      0.247      0.805      -0.002       0.002\n",
      "PYPL_MA50        1.453e-05      0.001      0.017      0.986      -0.002       0.002\n",
      "PYPL_Volatility    -0.0015      0.001     -1.577      0.115      -0.003       0.000\n",
      "PYPL_Momentum       0.0010      0.001      0.953      0.341      -0.001       0.003\n",
      "V_Return           -0.0087      0.002     -3.635      0.000      -0.013      -0.004\n",
      "V_MA10             -0.0001      0.002     -0.053      0.958      -0.004       0.004\n",
      "V_MA50              0.0002      0.002      0.102      0.919      -0.003       0.004\n",
      "V_Volatility       -0.0008      0.002     -0.327      0.744      -0.006       0.004\n",
      "V_Momentum          0.0034      0.002      1.561      0.119      -0.001       0.008\n",
      "SCHW_Return        -0.0030      0.001     -2.147      0.032      -0.006      -0.000\n",
      "SCHW_MA10           0.0008      0.001      0.732      0.464      -0.001       0.003\n",
      "SCHW_MA50           0.0001      0.001      0.114      0.909      -0.002       0.002\n",
      "SCHW_Volatility    -0.0005      0.001     -0.407      0.684      -0.003       0.002\n",
      "SCHW_Momentum       0.0014      0.001      1.123      0.262      -0.001       0.004\n",
      "MA_Return           0.0086      0.002      3.620      0.000       0.004       0.013\n",
      "MA_MA10            -0.0014      0.002     -0.694      0.488      -0.005       0.003\n",
      "MA_MA50            -0.0019      0.002     -1.110      0.267      -0.005       0.001\n",
      "MA_Volatility       0.0018      0.002      0.725      0.468      -0.003       0.007\n",
      "MA_Momentum        -0.0028      0.002     -1.290      0.197      -0.007       0.001\n",
      "===================================================================================\n",
      "CV MSE Scores: [0.00154603 0.00041227 0.00022279 0.0005346  0.00031212]\n",
      "Mean CV MSE: 0.000606 (±0.000482)\n",
      "\n",
      "🔍 Training Linear Regression for SCHW...\n",
      "===================================================================================\n",
      "                      coef    std err          t      P>|t|      [0.025      0.975]\n",
      "-----------------------------------------------------------------------------------\n",
      "const               0.0009      0.001      1.037      0.300      -0.001       0.002\n",
      "C_Return           -0.0019      0.002     -1.091      0.276      -0.005       0.001\n",
      "C_MA10              0.0014      0.001      0.979      0.328      -0.001       0.004\n",
      "C_MA50             -0.0003      0.001     -0.227      0.820      -0.003       0.003\n",
      "C_Volatility        0.0012      0.002      0.711      0.477      -0.002       0.005\n",
      "C_Momentum         -0.0002      0.002     -0.102      0.919      -0.003       0.003\n",
      "PYPL_Return         0.0003      0.002      0.226      0.822      -0.003       0.003\n",
      "PYPL_MA10           0.0008      0.001      0.711      0.477      -0.001       0.003\n",
      "PYPL_MA50          -0.0001      0.001     -0.106      0.916      -0.002       0.002\n",
      "PYPL_Volatility  7.031e-05      0.001      0.057      0.955      -0.002       0.003\n",
      "PYPL_Momentum       0.0016      0.001      1.183      0.237      -0.001       0.004\n",
      "V_Return           -0.0045      0.003     -1.455      0.146      -0.011       0.002\n",
      "V_MA10              0.0015      0.003      0.559      0.576      -0.004       0.007\n",
      "V_MA50             -0.0023      0.002     -0.998      0.318      -0.007       0.002\n",
      "V_Volatility        0.0006      0.003      0.199      0.842      -0.006       0.007\n",
      "V_Momentum          0.0037      0.003      1.322      0.186      -0.002       0.009\n",
      "SCHW_Return         0.0001      0.002      0.081      0.935      -0.003       0.004\n",
      "SCHW_MA10          -0.0011      0.001     -0.801      0.423      -0.004       0.002\n",
      "SCHW_MA50           0.0015      0.001      1.010      0.313      -0.001       0.004\n",
      "SCHW_Volatility     0.0005      0.002      0.325      0.745      -0.003       0.004\n",
      "SCHW_Momentum      -0.0006      0.002     -0.377      0.707      -0.004       0.003\n",
      "MA_Return           0.0015      0.003      0.500      0.617      -0.005       0.008\n",
      "MA_MA10            -0.0011      0.003     -0.421      0.674      -0.006       0.004\n",
      "MA_MA50             0.0006      0.002      0.265      0.791      -0.004       0.005\n",
      "MA_Volatility      -0.0016      0.003     -0.486      0.627      -0.008       0.005\n",
      "MA_Momentum        -0.0028      0.003     -0.990      0.323      -0.008       0.003\n",
      "===================================================================================\n",
      "CV MSE Scores: [0.00333911 0.00080112 0.00037302 0.00060897 0.00040899]\n",
      "Mean CV MSE: 0.001106 (±0.001127)\n",
      "\n",
      "🔍 Training Linear Regression for MA...\n",
      "===================================================================================\n",
      "                      coef    std err          t      P>|t|      [0.025      0.975]\n",
      "-----------------------------------------------------------------------------------\n",
      "const               0.0007      0.001      0.981      0.327      -0.001       0.002\n",
      "C_Return           -0.0012      0.002     -0.799      0.425      -0.004       0.002\n",
      "C_MA10              0.0014      0.001      1.113      0.266      -0.001       0.004\n",
      "C_MA50             -0.0007      0.001     -0.513      0.608      -0.003       0.002\n",
      "C_Volatility        0.0012      0.001      0.799      0.425      -0.002       0.004\n",
      "C_Momentum         -0.0016      0.001     -1.131      0.258      -0.004       0.001\n",
      "PYPL_Return        -0.0008      0.001     -0.573      0.567      -0.003       0.002\n",
      "PYPL_MA10          -0.0003      0.001     -0.266      0.790      -0.002       0.002\n",
      "PYPL_MA50           0.0002      0.001      0.188      0.851      -0.002       0.002\n",
      "PYPL_Volatility    -0.0016      0.001     -1.450      0.147      -0.004       0.001\n",
      "PYPL_Momentum       0.0017      0.001      1.387      0.166      -0.001       0.004\n",
      "V_Return           -0.0081      0.003     -2.957      0.003      -0.013      -0.003\n",
      "V_MA10              0.0015      0.002      0.652      0.514      -0.003       0.006\n",
      "V_MA50           7.158e-05      0.002      0.035      0.972      -0.004       0.004\n",
      "V_Volatility       -0.0002      0.003     -0.080      0.936      -0.006       0.005\n",
      "V_Momentum          0.0044      0.002      1.765      0.078      -0.000       0.009\n",
      "SCHW_Return        -0.0021      0.002     -1.273      0.203      -0.005       0.001\n",
      "SCHW_MA10           0.0004      0.001      0.370      0.712      -0.002       0.003\n",
      "SCHW_MA50           0.0003      0.001      0.196      0.844      -0.002       0.003\n",
      "SCHW_Volatility    -0.0009      0.001     -0.651      0.515      -0.004       0.002\n",
      "SCHW_Momentum       0.0008      0.001      0.549      0.583      -0.002       0.004\n",
      "MA_Return           0.0080      0.003      2.926      0.004       0.003       0.013\n",
      "MA_MA10            -0.0027      0.002     -1.164      0.245      -0.007       0.002\n",
      "MA_MA50            -0.0023      0.002     -1.208      0.227      -0.006       0.001\n",
      "MA_Volatility       0.0002      0.003      0.072      0.942      -0.005       0.006\n",
      "MA_Momentum        -0.0039      0.002     -1.561      0.119      -0.009       0.001\n",
      "===================================================================================\n",
      "CV MSE Scores: [0.00256495 0.00054614 0.00028438 0.00056475 0.00039098]\n",
      "Mean CV MSE: 0.000870 (±0.000854)\n",
      "\n",
      "==================================================\n",
      "SVM MODEL WITH CROSS-VALIDATION\n",
      "==================================================\n",
      "\n",
      "\n",
      "🚀 Training SVM for C...\n",
      "CV MSE Scores: [0.00264139 0.00122492 0.00051223 0.00105912 0.00081783]\n",
      "Mean CV MSE: 0.001251 (±0.000735)\n",
      "\n",
      "🚀 Training SVM for PYPL...\n",
      "CV MSE Scores: [0.00140212 0.00136594 0.00078903 0.00177061 0.00145976]\n",
      "Mean CV MSE: 0.001357 (±0.000318)\n",
      "\n",
      "🚀 Training SVM for V...\n",
      "CV MSE Scores: [0.00101724 0.00061626 0.00025742 0.00078302 0.00046999]\n",
      "Mean CV MSE: 0.000629 (±0.000260)\n",
      "\n",
      "🚀 Training SVM for SCHW...\n",
      "CV MSE Scores: [0.00163236 0.00123827 0.00059248 0.00108031 0.00064176]\n",
      "Mean CV MSE: 0.001037 (±0.000387)\n",
      "\n",
      "🚀 Training SVM for MA...\n",
      "CV MSE Scores: [0.00127651 0.00088691 0.00040143 0.0009659  0.00076323]\n",
      "Mean CV MSE: 0.000859 (±0.000285)\n",
      "\n",
      "==================================================\n",
      "RANDOM FOREST MODEL WITH CROSS-VALIDATION\n",
      "==================================================\n",
      "\n",
      "\n",
      "🌲 Training Random Forest for C...\n",
      "CV MSE Scores: [0.00240763 0.00067972 0.00030044 0.00038488 0.00049161]\n",
      "Mean CV MSE: 0.000853 (±0.000788)\n",
      "\n",
      "🌲 Training Random Forest for PYPL...\n",
      "CV MSE Scores: [0.00145521 0.00076895 0.00046308 0.00142878 0.00102638]\n",
      "Mean CV MSE: 0.001028 (±0.000382)\n",
      "\n",
      "🌲 Training Random Forest for V...\n",
      "CV MSE Scores: [0.0009994  0.00025952 0.00017639 0.00046526 0.00030715]\n",
      "Mean CV MSE: 0.000442 (±0.000294)\n",
      "\n",
      "🌲 Training Random Forest for SCHW...\n",
      "CV MSE Scores: [0.00151377 0.00056215 0.00035757 0.00057238 0.00043877]\n",
      "Mean CV MSE: 0.000689 (±0.000420)\n",
      "\n",
      "🌲 Training Random Forest for MA...\n",
      "CV MSE Scores: [0.0012189  0.00042449 0.00024988 0.00055808 0.00039785]\n",
      "Mean CV MSE: 0.000570 (±0.000339)\n",
      "\n",
      "==================================================\n",
      "NEURAL NETWORK MODEL WITH CROSS-VALIDATION\n",
      "==================================================\n",
      "\n",
      "\n",
      "🤖 Training Neural Network for C...\n"
     ]
    },
    {
     "name": "stderr",
     "output_type": "stream",
     "text": [
      "C:\\Users\\hp\\anaconda3\\Lib\\site-packages\\keras\\src\\layers\\core\\dense.py:87: UserWarning: Do not pass an `input_shape`/`input_dim` argument to a layer. When using Sequential models, prefer using an `Input(shape)` object as the first layer in the model instead.\n",
      "  super().__init__(activity_regularizer=activity_regularizer, **kwargs)\n"
     ]
    },
    {
     "name": "stdout",
     "output_type": "stream",
     "text": [
      "\u001b[1m5/5\u001b[0m \u001b[32m━━━━━━━━━━━━━━━━━━━━\u001b[0m\u001b[37m\u001b[0m \u001b[1m0s\u001b[0m 10ms/step\n"
     ]
    },
    {
     "name": "stderr",
     "output_type": "stream",
     "text": [
      "C:\\Users\\hp\\anaconda3\\Lib\\site-packages\\keras\\src\\layers\\core\\dense.py:87: UserWarning: Do not pass an `input_shape`/`input_dim` argument to a layer. When using Sequential models, prefer using an `Input(shape)` object as the first layer in the model instead.\n",
      "  super().__init__(activity_regularizer=activity_regularizer, **kwargs)\n"
     ]
    },
    {
     "name": "stdout",
     "output_type": "stream",
     "text": [
      "\u001b[1m5/5\u001b[0m \u001b[32m━━━━━━━━━━━━━━━━━━━━\u001b[0m\u001b[37m\u001b[0m \u001b[1m0s\u001b[0m 7ms/step \n"
     ]
    },
    {
     "name": "stderr",
     "output_type": "stream",
     "text": [
      "C:\\Users\\hp\\anaconda3\\Lib\\site-packages\\keras\\src\\layers\\core\\dense.py:87: UserWarning: Do not pass an `input_shape`/`input_dim` argument to a layer. When using Sequential models, prefer using an `Input(shape)` object as the first layer in the model instead.\n",
      "  super().__init__(activity_regularizer=activity_regularizer, **kwargs)\n"
     ]
    },
    {
     "name": "stdout",
     "output_type": "stream",
     "text": [
      "\u001b[1m5/5\u001b[0m \u001b[32m━━━━━━━━━━━━━━━━━━━━\u001b[0m\u001b[37m\u001b[0m \u001b[1m0s\u001b[0m 8ms/step \n"
     ]
    },
    {
     "name": "stderr",
     "output_type": "stream",
     "text": [
      "C:\\Users\\hp\\anaconda3\\Lib\\site-packages\\keras\\src\\layers\\core\\dense.py:87: UserWarning: Do not pass an `input_shape`/`input_dim` argument to a layer. When using Sequential models, prefer using an `Input(shape)` object as the first layer in the model instead.\n",
      "  super().__init__(activity_regularizer=activity_regularizer, **kwargs)\n"
     ]
    },
    {
     "name": "stdout",
     "output_type": "stream",
     "text": [
      "\u001b[1m5/5\u001b[0m \u001b[32m━━━━━━━━━━━━━━━━━━━━\u001b[0m\u001b[37m\u001b[0m \u001b[1m0s\u001b[0m 4ms/step \n"
     ]
    },
    {
     "name": "stderr",
     "output_type": "stream",
     "text": [
      "C:\\Users\\hp\\anaconda3\\Lib\\site-packages\\keras\\src\\layers\\core\\dense.py:87: UserWarning: Do not pass an `input_shape`/`input_dim` argument to a layer. When using Sequential models, prefer using an `Input(shape)` object as the first layer in the model instead.\n",
      "  super().__init__(activity_regularizer=activity_regularizer, **kwargs)\n"
     ]
    },
    {
     "name": "stdout",
     "output_type": "stream",
     "text": [
      "\u001b[1m5/5\u001b[0m \u001b[32m━━━━━━━━━━━━━━━━━━━━\u001b[0m\u001b[37m\u001b[0m \u001b[1m0s\u001b[0m 5ms/step \n",
      "CV MSE Scores: [0.1297009202927026, 0.011101125113548676, 0.006697613057135908, 0.012254645560812431, 0.0045329003060640225]\n",
      "Mean CV MSE: 0.032857 (±0.048504)\n"
     ]
    },
    {
     "name": "stderr",
     "output_type": "stream",
     "text": [
      "C:\\Users\\hp\\anaconda3\\Lib\\site-packages\\keras\\src\\layers\\core\\dense.py:87: UserWarning: Do not pass an `input_shape`/`input_dim` argument to a layer. When using Sequential models, prefer using an `Input(shape)` object as the first layer in the model instead.\n",
      "  super().__init__(activity_regularizer=activity_regularizer, **kwargs)\n"
     ]
    },
    {
     "name": "stdout",
     "output_type": "stream",
     "text": [
      "\n",
      "🤖 Training Neural Network for PYPL...\n"
     ]
    },
    {
     "name": "stderr",
     "output_type": "stream",
     "text": [
      "C:\\Users\\hp\\anaconda3\\Lib\\site-packages\\keras\\src\\layers\\core\\dense.py:87: UserWarning: Do not pass an `input_shape`/`input_dim` argument to a layer. When using Sequential models, prefer using an `Input(shape)` object as the first layer in the model instead.\n",
      "  super().__init__(activity_regularizer=activity_regularizer, **kwargs)\n"
     ]
    },
    {
     "name": "stdout",
     "output_type": "stream",
     "text": [
      "\u001b[1m5/5\u001b[0m \u001b[32m━━━━━━━━━━━━━━━━━━━━\u001b[0m\u001b[37m\u001b[0m \u001b[1m0s\u001b[0m 4ms/step \n"
     ]
    },
    {
     "name": "stderr",
     "output_type": "stream",
     "text": [
      "C:\\Users\\hp\\anaconda3\\Lib\\site-packages\\keras\\src\\layers\\core\\dense.py:87: UserWarning: Do not pass an `input_shape`/`input_dim` argument to a layer. When using Sequential models, prefer using an `Input(shape)` object as the first layer in the model instead.\n",
      "  super().__init__(activity_regularizer=activity_regularizer, **kwargs)\n"
     ]
    },
    {
     "name": "stdout",
     "output_type": "stream",
     "text": [
      "\u001b[1m5/5\u001b[0m \u001b[32m━━━━━━━━━━━━━━━━━━━━\u001b[0m\u001b[37m\u001b[0m \u001b[1m0s\u001b[0m 4ms/step \n"
     ]
    },
    {
     "name": "stderr",
     "output_type": "stream",
     "text": [
      "C:\\Users\\hp\\anaconda3\\Lib\\site-packages\\keras\\src\\layers\\core\\dense.py:87: UserWarning: Do not pass an `input_shape`/`input_dim` argument to a layer. When using Sequential models, prefer using an `Input(shape)` object as the first layer in the model instead.\n",
      "  super().__init__(activity_regularizer=activity_regularizer, **kwargs)\n"
     ]
    },
    {
     "name": "stdout",
     "output_type": "stream",
     "text": [
      "\u001b[1m5/5\u001b[0m \u001b[32m━━━━━━━━━━━━━━━━━━━━\u001b[0m\u001b[37m\u001b[0m \u001b[1m0s\u001b[0m 9ms/step  \n"
     ]
    },
    {
     "name": "stderr",
     "output_type": "stream",
     "text": [
      "C:\\Users\\hp\\anaconda3\\Lib\\site-packages\\keras\\src\\layers\\core\\dense.py:87: UserWarning: Do not pass an `input_shape`/`input_dim` argument to a layer. When using Sequential models, prefer using an `Input(shape)` object as the first layer in the model instead.\n",
      "  super().__init__(activity_regularizer=activity_regularizer, **kwargs)\n"
     ]
    },
    {
     "name": "stdout",
     "output_type": "stream",
     "text": [
      "\u001b[1m5/5\u001b[0m \u001b[32m━━━━━━━━━━━━━━━━━━━━\u001b[0m\u001b[37m\u001b[0m \u001b[1m0s\u001b[0m 7ms/step \n"
     ]
    },
    {
     "name": "stderr",
     "output_type": "stream",
     "text": [
      "C:\\Users\\hp\\anaconda3\\Lib\\site-packages\\keras\\src\\layers\\core\\dense.py:87: UserWarning: Do not pass an `input_shape`/`input_dim` argument to a layer. When using Sequential models, prefer using an `Input(shape)` object as the first layer in the model instead.\n",
      "  super().__init__(activity_regularizer=activity_regularizer, **kwargs)\n"
     ]
    },
    {
     "name": "stdout",
     "output_type": "stream",
     "text": [
      "\u001b[1m5/5\u001b[0m \u001b[32m━━━━━━━━━━━━━━━━━━━━\u001b[0m\u001b[37m\u001b[0m \u001b[1m0s\u001b[0m 8ms/step \n",
      "CV MSE Scores: [0.12129350807291184, 0.023767284871454183, 0.007837789862917674, 0.02648218486079274, 0.00973709937266055]\n",
      "Mean CV MSE: 0.037824 (±0.042383)\n"
     ]
    },
    {
     "name": "stderr",
     "output_type": "stream",
     "text": [
      "C:\\Users\\hp\\anaconda3\\Lib\\site-packages\\keras\\src\\layers\\core\\dense.py:87: UserWarning: Do not pass an `input_shape`/`input_dim` argument to a layer. When using Sequential models, prefer using an `Input(shape)` object as the first layer in the model instead.\n",
      "  super().__init__(activity_regularizer=activity_regularizer, **kwargs)\n"
     ]
    },
    {
     "name": "stdout",
     "output_type": "stream",
     "text": [
      "\n",
      "🤖 Training Neural Network for V...\n"
     ]
    },
    {
     "name": "stderr",
     "output_type": "stream",
     "text": [
      "C:\\Users\\hp\\anaconda3\\Lib\\site-packages\\keras\\src\\layers\\core\\dense.py:87: UserWarning: Do not pass an `input_shape`/`input_dim` argument to a layer. When using Sequential models, prefer using an `Input(shape)` object as the first layer in the model instead.\n",
      "  super().__init__(activity_regularizer=activity_regularizer, **kwargs)\n"
     ]
    },
    {
     "name": "stdout",
     "output_type": "stream",
     "text": [
      "\u001b[1m5/5\u001b[0m \u001b[32m━━━━━━━━━━━━━━━━━━━━\u001b[0m\u001b[37m\u001b[0m \u001b[1m0s\u001b[0m 13ms/step\n"
     ]
    },
    {
     "name": "stderr",
     "output_type": "stream",
     "text": [
      "C:\\Users\\hp\\anaconda3\\Lib\\site-packages\\keras\\src\\layers\\core\\dense.py:87: UserWarning: Do not pass an `input_shape`/`input_dim` argument to a layer. When using Sequential models, prefer using an `Input(shape)` object as the first layer in the model instead.\n",
      "  super().__init__(activity_regularizer=activity_regularizer, **kwargs)\n"
     ]
    },
    {
     "name": "stdout",
     "output_type": "stream",
     "text": [
      "\u001b[1m5/5\u001b[0m \u001b[32m━━━━━━━━━━━━━━━━━━━━\u001b[0m\u001b[37m\u001b[0m \u001b[1m0s\u001b[0m 12ms/step \n"
     ]
    },
    {
     "name": "stderr",
     "output_type": "stream",
     "text": [
      "C:\\Users\\hp\\anaconda3\\Lib\\site-packages\\keras\\src\\layers\\core\\dense.py:87: UserWarning: Do not pass an `input_shape`/`input_dim` argument to a layer. When using Sequential models, prefer using an `Input(shape)` object as the first layer in the model instead.\n",
      "  super().__init__(activity_regularizer=activity_regularizer, **kwargs)\n"
     ]
    },
    {
     "name": "stdout",
     "output_type": "stream",
     "text": [
      "\u001b[1m5/5\u001b[0m \u001b[32m━━━━━━━━━━━━━━━━━━━━\u001b[0m\u001b[37m\u001b[0m \u001b[1m0s\u001b[0m 8ms/step \n"
     ]
    },
    {
     "name": "stderr",
     "output_type": "stream",
     "text": [
      "C:\\Users\\hp\\anaconda3\\Lib\\site-packages\\keras\\src\\layers\\core\\dense.py:87: UserWarning: Do not pass an `input_shape`/`input_dim` argument to a layer. When using Sequential models, prefer using an `Input(shape)` object as the first layer in the model instead.\n",
      "  super().__init__(activity_regularizer=activity_regularizer, **kwargs)\n"
     ]
    },
    {
     "name": "stdout",
     "output_type": "stream",
     "text": [
      "\u001b[1m5/5\u001b[0m \u001b[32m━━━━━━━━━━━━━━━━━━━━\u001b[0m\u001b[37m\u001b[0m \u001b[1m0s\u001b[0m 7ms/step \n"
     ]
    },
    {
     "name": "stderr",
     "output_type": "stream",
     "text": [
      "C:\\Users\\hp\\anaconda3\\Lib\\site-packages\\keras\\src\\layers\\core\\dense.py:87: UserWarning: Do not pass an `input_shape`/`input_dim` argument to a layer. When using Sequential models, prefer using an `Input(shape)` object as the first layer in the model instead.\n",
      "  super().__init__(activity_regularizer=activity_regularizer, **kwargs)\n"
     ]
    },
    {
     "name": "stdout",
     "output_type": "stream",
     "text": [
      "\u001b[1m5/5\u001b[0m \u001b[32m━━━━━━━━━━━━━━━━━━━━\u001b[0m\u001b[37m\u001b[0m \u001b[1m0s\u001b[0m 8ms/step \n",
      "CV MSE Scores: [0.06036964688770604, 0.023763792781634683, 0.006764663298885939, 0.02034977030215495, 0.004819122487524663]\n",
      "Mean CV MSE: 0.023213 (±0.019990)\n"
     ]
    },
    {
     "name": "stderr",
     "output_type": "stream",
     "text": [
      "C:\\Users\\hp\\anaconda3\\Lib\\site-packages\\keras\\src\\layers\\core\\dense.py:87: UserWarning: Do not pass an `input_shape`/`input_dim` argument to a layer. When using Sequential models, prefer using an `Input(shape)` object as the first layer in the model instead.\n",
      "  super().__init__(activity_regularizer=activity_regularizer, **kwargs)\n"
     ]
    },
    {
     "name": "stdout",
     "output_type": "stream",
     "text": [
      "\n",
      "🤖 Training Neural Network for SCHW...\n"
     ]
    },
    {
     "name": "stderr",
     "output_type": "stream",
     "text": [
      "C:\\Users\\hp\\anaconda3\\Lib\\site-packages\\keras\\src\\layers\\core\\dense.py:87: UserWarning: Do not pass an `input_shape`/`input_dim` argument to a layer. When using Sequential models, prefer using an `Input(shape)` object as the first layer in the model instead.\n",
      "  super().__init__(activity_regularizer=activity_regularizer, **kwargs)\n"
     ]
    },
    {
     "name": "stdout",
     "output_type": "stream",
     "text": [
      "\u001b[1m5/5\u001b[0m \u001b[32m━━━━━━━━━━━━━━━━━━━━\u001b[0m\u001b[37m\u001b[0m \u001b[1m0s\u001b[0m 6ms/step \n"
     ]
    },
    {
     "name": "stderr",
     "output_type": "stream",
     "text": [
      "C:\\Users\\hp\\anaconda3\\Lib\\site-packages\\keras\\src\\layers\\core\\dense.py:87: UserWarning: Do not pass an `input_shape`/`input_dim` argument to a layer. When using Sequential models, prefer using an `Input(shape)` object as the first layer in the model instead.\n",
      "  super().__init__(activity_regularizer=activity_regularizer, **kwargs)\n"
     ]
    },
    {
     "name": "stdout",
     "output_type": "stream",
     "text": [
      "\u001b[1m5/5\u001b[0m \u001b[32m━━━━━━━━━━━━━━━━━━━━\u001b[0m\u001b[37m\u001b[0m \u001b[1m0s\u001b[0m 12ms/step\n"
     ]
    },
    {
     "name": "stderr",
     "output_type": "stream",
     "text": [
      "C:\\Users\\hp\\anaconda3\\Lib\\site-packages\\keras\\src\\layers\\core\\dense.py:87: UserWarning: Do not pass an `input_shape`/`input_dim` argument to a layer. When using Sequential models, prefer using an `Input(shape)` object as the first layer in the model instead.\n",
      "  super().__init__(activity_regularizer=activity_regularizer, **kwargs)\n"
     ]
    },
    {
     "name": "stdout",
     "output_type": "stream",
     "text": [
      "\u001b[1m5/5\u001b[0m \u001b[32m━━━━━━━━━━━━━━━━━━━━\u001b[0m\u001b[37m\u001b[0m \u001b[1m0s\u001b[0m 8ms/step \n"
     ]
    },
    {
     "name": "stderr",
     "output_type": "stream",
     "text": [
      "C:\\Users\\hp\\anaconda3\\Lib\\site-packages\\keras\\src\\layers\\core\\dense.py:87: UserWarning: Do not pass an `input_shape`/`input_dim` argument to a layer. When using Sequential models, prefer using an `Input(shape)` object as the first layer in the model instead.\n",
      "  super().__init__(activity_regularizer=activity_regularizer, **kwargs)\n"
     ]
    },
    {
     "name": "stdout",
     "output_type": "stream",
     "text": [
      "\u001b[1m5/5\u001b[0m \u001b[32m━━━━━━━━━━━━━━━━━━━━\u001b[0m\u001b[37m\u001b[0m \u001b[1m0s\u001b[0m 7ms/step \n"
     ]
    },
    {
     "name": "stderr",
     "output_type": "stream",
     "text": [
      "C:\\Users\\hp\\anaconda3\\Lib\\site-packages\\keras\\src\\layers\\core\\dense.py:87: UserWarning: Do not pass an `input_shape`/`input_dim` argument to a layer. When using Sequential models, prefer using an `Input(shape)` object as the first layer in the model instead.\n",
      "  super().__init__(activity_regularizer=activity_regularizer, **kwargs)\n"
     ]
    },
    {
     "name": "stdout",
     "output_type": "stream",
     "text": [
      "\u001b[1m5/5\u001b[0m \u001b[32m━━━━━━━━━━━━━━━━━━━━\u001b[0m\u001b[37m\u001b[0m \u001b[1m0s\u001b[0m 20ms/step\n",
      "CV MSE Scores: [0.1470744492052106, 0.023606658323960722, 0.009559084512035373, 0.025447583409563334, 0.004627330890492068]\n",
      "Mean CV MSE: 0.042063 (±0.053108)\n"
     ]
    },
    {
     "name": "stderr",
     "output_type": "stream",
     "text": [
      "C:\\Users\\hp\\anaconda3\\Lib\\site-packages\\keras\\src\\layers\\core\\dense.py:87: UserWarning: Do not pass an `input_shape`/`input_dim` argument to a layer. When using Sequential models, prefer using an `Input(shape)` object as the first layer in the model instead.\n",
      "  super().__init__(activity_regularizer=activity_regularizer, **kwargs)\n"
     ]
    },
    {
     "name": "stdout",
     "output_type": "stream",
     "text": [
      "\n",
      "🤖 Training Neural Network for MA...\n"
     ]
    },
    {
     "name": "stderr",
     "output_type": "stream",
     "text": [
      "C:\\Users\\hp\\anaconda3\\Lib\\site-packages\\keras\\src\\layers\\core\\dense.py:87: UserWarning: Do not pass an `input_shape`/`input_dim` argument to a layer. When using Sequential models, prefer using an `Input(shape)` object as the first layer in the model instead.\n",
      "  super().__init__(activity_regularizer=activity_regularizer, **kwargs)\n"
     ]
    },
    {
     "name": "stdout",
     "output_type": "stream",
     "text": [
      "\u001b[1m5/5\u001b[0m \u001b[32m━━━━━━━━━━━━━━━━━━━━\u001b[0m\u001b[37m\u001b[0m \u001b[1m0s\u001b[0m 5ms/step \n"
     ]
    },
    {
     "name": "stderr",
     "output_type": "stream",
     "text": [
      "C:\\Users\\hp\\anaconda3\\Lib\\site-packages\\keras\\src\\layers\\core\\dense.py:87: UserWarning: Do not pass an `input_shape`/`input_dim` argument to a layer. When using Sequential models, prefer using an `Input(shape)` object as the first layer in the model instead.\n",
      "  super().__init__(activity_regularizer=activity_regularizer, **kwargs)\n"
     ]
    },
    {
     "name": "stdout",
     "output_type": "stream",
     "text": [
      "\u001b[1m5/5\u001b[0m \u001b[32m━━━━━━━━━━━━━━━━━━━━\u001b[0m\u001b[37m\u001b[0m \u001b[1m0s\u001b[0m 8ms/step \n"
     ]
    },
    {
     "name": "stderr",
     "output_type": "stream",
     "text": [
      "C:\\Users\\hp\\anaconda3\\Lib\\site-packages\\keras\\src\\layers\\core\\dense.py:87: UserWarning: Do not pass an `input_shape`/`input_dim` argument to a layer. When using Sequential models, prefer using an `Input(shape)` object as the first layer in the model instead.\n",
      "  super().__init__(activity_regularizer=activity_regularizer, **kwargs)\n"
     ]
    },
    {
     "name": "stdout",
     "output_type": "stream",
     "text": [
      "\u001b[1m5/5\u001b[0m \u001b[32m━━━━━━━━━━━━━━━━━━━━\u001b[0m\u001b[37m\u001b[0m \u001b[1m0s\u001b[0m 6ms/step \n"
     ]
    },
    {
     "name": "stderr",
     "output_type": "stream",
     "text": [
      "C:\\Users\\hp\\anaconda3\\Lib\\site-packages\\keras\\src\\layers\\core\\dense.py:87: UserWarning: Do not pass an `input_shape`/`input_dim` argument to a layer. When using Sequential models, prefer using an `Input(shape)` object as the first layer in the model instead.\n",
      "  super().__init__(activity_regularizer=activity_regularizer, **kwargs)\n"
     ]
    },
    {
     "name": "stdout",
     "output_type": "stream",
     "text": [
      "\u001b[1m5/5\u001b[0m \u001b[32m━━━━━━━━━━━━━━━━━━━━\u001b[0m\u001b[37m\u001b[0m \u001b[1m0s\u001b[0m 8ms/step \n"
     ]
    },
    {
     "name": "stderr",
     "output_type": "stream",
     "text": [
      "C:\\Users\\hp\\anaconda3\\Lib\\site-packages\\keras\\src\\layers\\core\\dense.py:87: UserWarning: Do not pass an `input_shape`/`input_dim` argument to a layer. When using Sequential models, prefer using an `Input(shape)` object as the first layer in the model instead.\n",
      "  super().__init__(activity_regularizer=activity_regularizer, **kwargs)\n"
     ]
    },
    {
     "name": "stdout",
     "output_type": "stream",
     "text": [
      "\u001b[1m5/5\u001b[0m \u001b[32m━━━━━━━━━━━━━━━━━━━━\u001b[0m\u001b[37m\u001b[0m \u001b[1m0s\u001b[0m 6ms/step \n",
      "CV MSE Scores: [0.25857336755607446, 0.02371683321587096, 0.006518256364410199, 0.05705943029286727, 0.0054572693107067015]\n",
      "Mean CV MSE: 0.070265 (±0.095984)\n"
     ]
    },
    {
     "name": "stderr",
     "output_type": "stream",
     "text": [
      "C:\\Users\\hp\\anaconda3\\Lib\\site-packages\\keras\\src\\layers\\core\\dense.py:87: UserWarning: Do not pass an `input_shape`/`input_dim` argument to a layer. When using Sequential models, prefer using an `Input(shape)` object as the first layer in the model instead.\n",
      "  super().__init__(activity_regularizer=activity_regularizer, **kwargs)\n"
     ]
    }
   ],
   "source": [
    "# MODEL IMPLEMENTATION WITH CV\n",
    "\n",
    "# Linear Regression\n",
    "import statsmodels.api as sm\n",
    "from sklearn.linear_model import LinearRegression\n",
    "from sklearn.model_selection import cross_val_score\n",
    "\n",
    "print(\"\\n\" + \"=\"*50)\n",
    "print(\"LINEAR REGRESSION MODEL WITH CROSS-VALIDATION\")\n",
    "print(\"=\"*50 + \"\\n\")\n",
    "\n",
    "lr_models = {}\n",
    "lr_cv_scores = {}\n",
    "\n",
    "for stock in y_train.columns:\n",
    "    print(f\"\\n🔍 Training Linear Regression for {stock}...\")\n",
    "    \n",
    "    # OLS for interpretation\n",
    "    X_const = sm.add_constant(X_train)\n",
    "    ols_model = sm.OLS(y_train[stock], X_const).fit()\n",
    "    print(ols_model.summary().tables[1])\n",
    "    \n",
    "    # Scikit-learn for CV\n",
    "    lr = LinearRegression()\n",
    "    cv_scores = cross_val_score(lr, X_train, y_train[stock], cv=tscv, scoring=mse_scorer)\n",
    "    lr_cv_scores[stock] = cv_scores\n",
    "    print(f\"CV MSE Scores: {cv_scores}\")\n",
    "    print(f\"Mean CV MSE: {cv_scores.mean():.6f} (±{cv_scores.std():.6f})\")\n",
    "    \n",
    "    # Train final model\n",
    "    lr.fit(X_train, y_train[stock])\n",
    "    lr_models[stock] = lr\n",
    "\n",
    "# Support Vector Machine\n",
    "from sklearn.svm import SVR\n",
    "\n",
    "print(\"\\n\" + \"=\"*50)\n",
    "print(\"SVM MODEL WITH CROSS-VALIDATION\")\n",
    "print(\"=\"*50 + \"\\n\")\n",
    "\n",
    "svm_models = {}\n",
    "svm_cv_scores = {}\n",
    "svm_params = {'kernel': 'rbf', 'C': 1.0, 'gamma': 'scale', 'epsilon': 0.001}\n",
    "\n",
    "for stock in y_train.columns:\n",
    "    print(f\"\\n🚀 Training SVM for {stock}...\")\n",
    "    svr = SVR(**svm_params)\n",
    "    \n",
    "    cv_scores = cross_val_score(svr, X_train, y_train[stock], cv=tscv, scoring=mse_scorer)\n",
    "    svm_cv_scores[stock] = cv_scores\n",
    "    print(f\"CV MSE Scores: {cv_scores}\")\n",
    "    print(f\"Mean CV MSE: {cv_scores.mean():.6f} (±{cv_scores.std():.6f})\")\n",
    "    \n",
    "    svr.fit(X_train, y_train[stock])\n",
    "    svm_models[stock] = svr\n",
    "\n",
    "# Random Forest\n",
    "from sklearn.ensemble import RandomForestRegressor\n",
    "\n",
    "print(\"\\n\" + \"=\"*50)\n",
    "print(\"RANDOM FOREST MODEL WITH CROSS-VALIDATION\")\n",
    "print(\"=\"*50 + \"\\n\")\n",
    "\n",
    "rf_models = {}\n",
    "rf_cv_scores = {}\n",
    "rf_feature_importances = {}\n",
    "rf_params = {'n_estimators': 100, 'max_depth': None, 'random_state': 42}\n",
    "\n",
    "for stock in y_train.columns:\n",
    "    print(f\"\\n🌲 Training Random Forest for {stock}...\")\n",
    "    rf = RandomForestRegressor(**rf_params)\n",
    "    \n",
    "    cv_scores = cross_val_score(rf, X_train, y_train[stock], cv=tscv, scoring=mse_scorer)\n",
    "    rf_cv_scores[stock] = cv_scores\n",
    "    print(f\"CV MSE Scores: {cv_scores}\")\n",
    "    print(f\"Mean CV MSE: {cv_scores.mean():.6f} (±{cv_scores.std():.6f})\")\n",
    "    \n",
    "    rf.fit(X_train, y_train[stock])\n",
    "    rf_models[stock] = rf\n",
    "    rf_feature_importances[stock] = rf.feature_importances_\n",
    "\n",
    "#Neural Network\n",
    "import tensorflow as tf\n",
    "from tensorflow.keras.models import Sequential\n",
    "from tensorflow.keras.layers import Dense\n",
    "from tensorflow.keras.optimizers import Adam\n",
    "from sklearn.metrics import mean_squared_error\n",
    "\n",
    "print(\"\\n\" + \"=\"*50)\n",
    "print(\"NEURAL NETWORK MODEL WITH CROSS-VALIDATION\")\n",
    "print(\"=\"*50 + \"\\n\")\n",
    "\n",
    "def build_nn():\n",
    "    model = Sequential([\n",
    "        Dense(64, activation='relu', input_shape=(X_train.shape[1],)),\n",
    "        Dense(32, activation='relu'),\n",
    "        Dense(1)\n",
    "    ])\n",
    "    model.compile(optimizer=Adam(learning_rate=0.001), loss='mse')\n",
    "    return model\n",
    "\n",
    "nn_models = {}\n",
    "nn_cv_scores = {}\n",
    "\n",
    "for stock in y_train.columns:\n",
    "    print(f\"\\n🤖 Training Neural Network for {stock}...\")\n",
    "\n",
    "    cv_scores = []\n",
    "\n",
    "    for train_idx, val_idx in tscv.split(X_train):\n",
    "        X_train_fold = X_train.iloc[train_idx]\n",
    "        y_train_fold = y_train[stock].iloc[train_idx]\n",
    "        X_val_fold = X_train.iloc[val_idx]\n",
    "        y_val_fold = y_train[stock].iloc[val_idx]\n",
    "\n",
    "        model = build_nn()\n",
    "        model.fit(X_train_fold, y_train_fold, epochs=50, batch_size=32, verbose=0)\n",
    "\n",
    "        preds = model.predict(X_val_fold).flatten()\n",
    "        mse = mean_squared_error(y_val_fold, preds)\n",
    "        cv_scores.append(mse)\n",
    "\n",
    "    nn_cv_scores[stock] = np.array(cv_scores)\n",
    "    print(f\"CV MSE Scores: {cv_scores}\")\n",
    "    print(f\"Mean CV MSE: {np.mean(cv_scores):.6f} (±{np.std(cv_scores):.6f})\")\n",
    "\n",
    "    # Final model training on the full training set\n",
    "    final_model = build_nn()\n",
    "    final_model.fit(X_train, y_train[stock], epochs=50, batch_size=32, verbose=0)\n",
    "    nn_models[stock] = final_model"
   ]
  },
  {
   "cell_type": "code",
   "execution_count": 5,
   "id": "948fe07e-1898-4950-9f74-276e8f7e8711",
   "metadata": {},
   "outputs": [
    {
     "name": "stdout",
     "output_type": "stream",
     "text": [
      "\n",
      "⭐ LINEAR REGRESSION TEST SET PERFORMANCE ⭐\n",
      "C - MSE: 0.000282, MAE: 0.012648, R²: -0.0869\n",
      "PYPL - MSE: 0.000563, MAE: 0.017610, R²: -0.0662\n",
      "V - MSE: 0.000103, MAE: 0.007906, R²: -0.1222\n",
      "SCHW - MSE: 0.000733, MAE: 0.018178, R²: -0.0219\n",
      "MA - MSE: 0.000115, MAE: 0.008176, R²: -0.0678\n",
      "\n",
      "⭐ SVM TEST SET PERFORMANCE ⭐\n",
      "C - MSE: 0.000523, MAE: 0.017954, R²: -1.0156\n",
      "PYPL - MSE: 0.001023, MAE: 0.024914, R²: -0.9376\n",
      "V - MSE: 0.000278, MAE: 0.013058, R²: -2.0399\n",
      "SCHW - MSE: 0.001028, MAE: 0.023296, R²: -0.4346\n",
      "MA - MSE: 0.000382, MAE: 0.014815, R²: -2.5594\n",
      "\n",
      "⭐ RANDOM FOREST TEST SET PERFORMANCE ⭐\n",
      "C - MSE: 0.000526, MAE: 0.015552, R²: -1.0270\n",
      "PYPL - MSE: 0.000708, MAE: 0.019608, R²: -0.3417\n",
      "V - MSE: 0.000208, MAE: 0.010494, R²: -1.2734\n",
      "SCHW - MSE: 0.000777, MAE: 0.018622, R²: -0.0844\n",
      "MA - MSE: 0.000241, MAE: 0.011511, R²: -1.2500\n",
      "\n",
      "⭐ NEURAL NETWORK TEST SET PERFORMANCE ⭐\n",
      "\u001b[1m8/8\u001b[0m \u001b[32m━━━━━━━━━━━━━━━━━━━━\u001b[0m\u001b[37m\u001b[0m \u001b[1m0s\u001b[0m 15ms/step\n",
      "C - MSE: 0.004089, MAE: 0.049376, R²: -14.7477\n",
      "\u001b[1m8/8\u001b[0m \u001b[32m━━━━━━━━━━━━━━━━━━━━\u001b[0m\u001b[37m\u001b[0m \u001b[1m0s\u001b[0m 18ms/step\n",
      "PYPL - MSE: 0.006903, MAE: 0.061964, R²: -12.0795\n",
      "WARNING:tensorflow:5 out of the last 17 calls to <function TensorFlowTrainer.make_predict_function.<locals>.one_step_on_data_distributed at 0x0000021E198504A0> triggered tf.function retracing. Tracing is expensive and the excessive number of tracings could be due to (1) creating @tf.function repeatedly in a loop, (2) passing tensors with different shapes, (3) passing Python objects instead of tensors. For (1), please define your @tf.function outside of the loop. For (2), @tf.function has reduce_retracing=True option that can avoid unnecessary retracing. For (3), please refer to https://www.tensorflow.org/guide/function#controlling_retracing and https://www.tensorflow.org/api_docs/python/tf/function for  more details.\n",
      "\u001b[1m8/8\u001b[0m \u001b[32m━━━━━━━━━━━━━━━━━━━━\u001b[0m\u001b[37m\u001b[0m \u001b[1m0s\u001b[0m 13ms/step\n",
      "V - MSE: 0.003068, MAE: 0.041490, R²: -32.5431\n",
      "WARNING:tensorflow:5 out of the last 17 calls to <function TensorFlowTrainer.make_predict_function.<locals>.one_step_on_data_distributed at 0x0000021E19850180> triggered tf.function retracing. Tracing is expensive and the excessive number of tracings could be due to (1) creating @tf.function repeatedly in a loop, (2) passing tensors with different shapes, (3) passing Python objects instead of tensors. For (1), please define your @tf.function outside of the loop. For (2), @tf.function has reduce_retracing=True option that can avoid unnecessary retracing. For (3), please refer to https://www.tensorflow.org/guide/function#controlling_retracing and https://www.tensorflow.org/api_docs/python/tf/function for  more details.\n",
      "\u001b[1m8/8\u001b[0m \u001b[32m━━━━━━━━━━━━━━━━━━━━\u001b[0m\u001b[37m\u001b[0m \u001b[1m0s\u001b[0m 14ms/step\n",
      "SCHW - MSE: 0.005768, MAE: 0.051793, R²: -7.0463\n",
      "\u001b[1m8/8\u001b[0m \u001b[32m━━━━━━━━━━━━━━━━━━━━\u001b[0m\u001b[37m\u001b[0m \u001b[1m0s\u001b[0m 13ms/step\n",
      "MA - MSE: 0.003959, MAE: 0.046318, R²: -35.9161\n",
      "\n",
      "==================================================\n",
      "CROSS-VALIDATION RESULTS SUMMARY\n",
      "==================================================\n",
      "\n",
      "📊 Linear Regression CV MSE:\n",
      "C: 0.001469 (±0.001742)\n",
      "PYPL: 0.001265 (±0.000646)\n",
      "V: 0.000606 (±0.000482)\n",
      "SCHW: 0.001106 (±0.001127)\n",
      "MA: 0.000870 (±0.000854)\n",
      "\n",
      "📊 SVM CV MSE:\n",
      "C: 0.001251 (±0.000735)\n",
      "PYPL: 0.001357 (±0.000318)\n",
      "V: 0.000629 (±0.000260)\n",
      "SCHW: 0.001037 (±0.000387)\n",
      "MA: 0.000859 (±0.000285)\n",
      "\n",
      "📊 Random Forest CV MSE:\n",
      "C: 0.000853 (±0.000788)\n",
      "PYPL: 0.001028 (±0.000382)\n",
      "V: 0.000442 (±0.000294)\n",
      "SCHW: 0.000689 (±0.000420)\n",
      "MA: 0.000570 (±0.000339)\n",
      "\n",
      "📊 Neural Network CV MSE:\n",
      "C: 0.032857 (±0.048504)\n",
      "PYPL: 0.037824 (±0.042383)\n",
      "V: 0.023213 (±0.019990)\n",
      "SCHW: 0.042063 (±0.053108)\n",
      "MA: 0.070265 (±0.095984)\n"
     ]
    }
   ],
   "source": [
    "# FINAL EVALUATION\n",
    "from sklearn.metrics import mean_squared_error, mean_absolute_error, r2_score\n",
    "\n",
    "def evaluate_model(model_dict, model_name):\n",
    "    print(f\"\\n⭐ {model_name.upper()} TEST SET PERFORMANCE ⭐\")\n",
    "    results = {}\n",
    "    for stock in y_test.columns:\n",
    "        preds = model_dict[stock].predict(X_test)\n",
    "        mse = mean_squared_error(y_test[stock], preds)\n",
    "        mae = mean_absolute_error(y_test[stock], preds)\n",
    "        r2 = r2_score(y_test[stock], preds)\n",
    "        results[stock] = {'MSE': mse, 'MAE': mae, 'R2': r2}\n",
    "        print(f\"{stock} - MSE: {mse:.6f}, MAE: {mae:.6f}, R²: {r2:.4f}\")\n",
    "    return results\n",
    "\n",
    "# Evaluate all models\n",
    "lr_results = evaluate_model(lr_models, \"Linear Regression\")\n",
    "svm_results = evaluate_model(svm_models, \"SVM\")\n",
    "rf_results = evaluate_model(rf_models, \"Random Forest\")\n",
    "nn_results = evaluate_model(nn_models, \"Neural Network\")\n",
    "\n",
    "#CV RESULTS SUMMARY\n",
    "print(\"\\n\" + \"=\"*50)\n",
    "print(\"CROSS-VALIDATION RESULTS SUMMARY\")\n",
    "print(\"=\"*50)\n",
    "\n",
    "def print_cv_summary(scores_dict, model_name):\n",
    "    print(f\"\\n📊 {model_name} CV MSE:\")\n",
    "    for stock in scores_dict:\n",
    "        mean_score = np.mean(scores_dict[stock])\n",
    "        std_score = np.std(scores_dict[stock])\n",
    "        print(f\"{stock}: {mean_score:.6f} (±{std_score:.6f})\")\n",
    "\n",
    "print_cv_summary(lr_cv_scores, \"Linear Regression\")\n",
    "print_cv_summary(svm_cv_scores, \"SVM\")\n",
    "print_cv_summary(rf_cv_scores, \"Random Forest\")\n",
    "print_cv_summary(nn_cv_scores, \"Neural Network\")"
   ]
  }
 ],
 "metadata": {
  "kernelspec": {
   "display_name": "Python 3 (ipykernel)",
   "language": "python",
   "name": "python3"
  },
  "language_info": {
   "codemirror_mode": {
    "name": "ipython",
    "version": 3
   },
   "file_extension": ".py",
   "mimetype": "text/x-python",
   "name": "python",
   "nbconvert_exporter": "python",
   "pygments_lexer": "ipython3",
   "version": "3.12.7"
  }
 },
 "nbformat": 4,
 "nbformat_minor": 5
}
